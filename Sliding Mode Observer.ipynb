{
 "cells": [
  {
   "cell_type": "markdown",
   "metadata": {},
   "source": [
    "### Sliding mode observers for mechanical systems\n",
    "The design of sliding mode observers for mechanical systems (especially those with highly nonlinear disturbance) is important for the following reasons:\n",
    "* Linear observers fail to achieve adequate performance\n",
    "* Model based observers require exactly known models\n",
    "* High gain observers which are sensitive to measurement noise and initial 'peaking' response toward estimates\n",
    "\n",
    "Sliding mode observers are  "
   ]
  },
  {
   "cell_type": "code",
   "execution_count": null,
   "metadata": {},
   "outputs": [],
   "source": []
  }
 ],
 "metadata": {
  "kernelspec": {
   "display_name": "Python 3",
   "language": "python",
   "name": "python3"
  },
  "language_info": {
   "codemirror_mode": {
    "name": "ipython",
    "version": 3
   },
   "file_extension": ".py",
   "mimetype": "text/x-python",
   "name": "python",
   "nbconvert_exporter": "python",
   "pygments_lexer": "ipython3",
   "version": "3.6.9"
  }
 },
 "nbformat": 4,
 "nbformat_minor": 4
}
