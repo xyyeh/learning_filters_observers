{
 "cells": [
  {
   "cell_type": "markdown",
   "metadata": {},
   "source": [
    "## Bayesian filters\n",
    "*Bayesian filters* are often used in many signal processing applications. In this notebook, we will develop the topic by incrementally building intuition around how Bayesian statistics work.\n",
    "\n",
    "### Tracking an object\n",
    "Lets begin with a simple example. We are interested in writing a simple software that tracks where our Roomba is in the house (lets just ignore for a moment that such a feature is already provided by the Roomba itself :)). To begin, we attach a tracker that is able to notify us where the robot is along a long corridor. As the data streams in, we will read *door, empty, empty, door, empty, empty, ...*, where *empty* denotes a free space. Now, how can I use the information to determine where the robot is given this series of data?\n",
    "\n",
    "For simplicity, we will model the corridor as an array of 10 discrete positions, indexed from 0 through 9. Initially, when we begin reading the sensor, we have no idea where the robot is. It is thus reasonable to assume the robot is equally like to be on any position, i.e., the probability in any position is 0.1. We can model our belief as:"
   ]
  },
  {
   "cell_type": "code",
   "execution_count": 170,
   "metadata": {},
   "outputs": [
    {
     "name": "stdout",
     "output_type": "stream",
     "text": [
      "[0.1 0.1 0.1 0.1 0.1 0.1 0.1 0.1 0.1 0.1]\n"
     ]
    }
   ],
   "source": [
    "import numpy as np\n",
    "belief = 0.1*np.ones(10)\n",
    "print(belief)"
   ]
  },
  {
   "cell_type": "markdown",
   "metadata": {},
   "source": [
    "This is called a [*prior*](https://en.wikipedia.org/wiki/Prior_probability). It is the probability *prior* to incorporating any measurements. For Bayesian statistics [*prior*](https://en.wikipedia.org/wiki/Bayesian_probability), past events are considered when evaluation the occurence of a certain event. Take for example, weather forcasting where the occurence of rain in different seasons in the pasts are considered when predicting if it will rain tomorrow.\n",
    "\n",
    "Now, lets model the map with numbers. Let *door* be 1 and *empty* be 0, i.e."
   ]
  },
  {
   "cell_type": "code",
   "execution_count": 171,
   "metadata": {},
   "outputs": [],
   "source": [
    "corridor = np.array([0,1,1,0,0,0,0,1,0,0])"
   ]
  },
  {
   "cell_type": "markdown",
   "metadata": {},
   "source": [
    "Assuming the first data is *door*, we have reason to believe that the robot is at one of the doors, i.e."
   ]
  },
  {
   "cell_type": "code",
   "execution_count": 172,
   "metadata": {},
   "outputs": [
    {
     "data": {
      "image/png": "[encoded data removed]",
      "text/plain": [
       "<matplotlib.figure.Figure at 0x7f02ee9f2978>"
      ]
     },
     "metadata": {
      "needs_background": "light"
     },
     "output_type": "display_data"
    }
   ],
   "source": [
    "import matplotlib.pyplot as plt\n",
    "belief = 1/3*np.array([0,1,1,0,0,0,0,1,0,0])\n",
    "pos = np.arange(len(belief))\n",
    "plt.bar(pos,belief,align='center',alpha=0.5)\n",
    "plt.xticks(np.arange(min(pos), max(pos)+1, 1))\n",
    "plt.gca().set_ylim([0,1])\n",
    "plt.show()"
   ]
  },
  {
   "cell_type": "markdown",
   "metadata": {},
   "source": [
    "### Noisy sensor readings\n",
    "Despite the amount of engineering going into creating sensors, it is unavoidable that they still come with some amount of noise. For the given example, the resulting probability looks like the following:"
   ]
  },
  {
   "cell_type": "code",
   "execution_count": 173,
   "metadata": {},
   "outputs": [],
   "source": [
    "belief = np.array([0.3,0.3,0.1,0.1,0.1,0.1,0.1,0.1,0.3,0.1])"
   ]
  },
  {
   "cell_type": "markdown",
   "metadata": {},
   "source": [
    "There is always noise in sensor readings, some may be due to the sensor mechanics. As such, the sum of beliefs is no longer 1. For simplicity, lets use a naive normalization method:"
   ]
  },
  {
   "cell_type": "code",
   "execution_count": 174,
   "metadata": {},
   "outputs": [
    {
     "data": {
      "image/png": "[encoded data removed]",
      "text/plain": [
       "<matplotlib.figure.Figure at 0x7f02e9199dd8>"
      ]
     },
     "metadata": {
      "needs_background": "light"
     },
     "output_type": "display_data"
    }
   ],
   "source": [
    "belief = belief / sum(belief)\n",
    "pos = np.arange(len(belief))\n",
    "plt.bar(pos,belief,align='center',alpha=0.5)\n",
    "plt.xticks(np.arange(min(pos), max(pos)+1, 1))\n",
    "plt.gca().set_ylim([0,1])\n",
    "plt.show()"
   ]
  },
  {
   "cell_type": "markdown",
   "metadata": {},
   "source": [
    "Suppose we want to normalize the probability distribution using a sensor model where the [*likelihood*](https://en.wikipedia.org/wiki/Likelihood_function) that a sensor is correctly identifying a state is 3 times more likely as compared to an incorrect detection. Hence, when we read a 1 for door, we need to scale it to: \n",
    "$\\frac{likelihood \\times prior}{normalization}$ "
   ]
  },
  {
   "cell_type": "code",
   "execution_count": 175,
   "metadata": {},
   "outputs": [
    {
     "name": "stdout",
     "output_type": "stream",
     "text": [
      "sum =  1.0\n",
      "p_door =  0.1875\n"
     ]
    },
    {
     "data": {
      "image/png": "[encoded data removed]",
      "text/plain": [
       "<matplotlib.figure.Figure at 0x7f02e963bbe0>"
      ]
     },
     "metadata": {
      "needs_background": "light"
     },
     "output_type": "display_data"
    }
   ],
   "source": [
    "def update(corridor, belief, z, prob_correct):\n",
    "    scale = prob_correct/(1-prob_correct)\n",
    "    belief[corridor==z] *= scale\n",
    "    # normalize\n",
    "    n = 1/sum(belief)\n",
    "    belief *= n\n",
    "\n",
    "belief = np.array([0.1] * 10)\n",
    "update(corridor, belief, z=1, prob_correct=0.75)\n",
    "\n",
    "print('sum = ', sum(belief))\n",
    "print('p_door = ', belief[1])\n",
    "\n",
    "pos = np.arange(len(belief))\n",
    "plt.bar(pos,belief,align='center',alpha=0.5)\n",
    "plt.xticks(np.arange(min(pos), max(pos)+1, 1))\n",
    "plt.gca().set_ylim([0,1])\n",
    "plt.show()"
   ]
  },
  {
   "cell_type": "markdown",
   "metadata": {},
   "source": [
    "This result is called the [*posterior*](https://en.wikipedia.org/wiki/Posterior_probability) or the *posterior probability distribution*. All this means is a probability after incorporating the measurement information. The state after incorporating the measurements is also called *estimation*"
   ]
  },
  {
   "cell_type": "markdown",
   "metadata": {},
   "source": [
    "### Incorporating movement\n",
    "Suppose that you are given also the past measurements, will you be able to better guess where the robot is? The answer is yes! As previously mentioned, the robot's sensor can be corrupted with noise, resulting in possible overshoot or undershoot. "
   ]
  },
  {
   "cell_type": "code",
   "execution_count": 176,
   "metadata": {},
   "outputs": [
    {
     "data": {
      "image/png": "[encoded data removed]",
      "text/plain": [
       "<matplotlib.figure.Figure at 0x7f02e9295860>"
      ]
     },
     "metadata": {
      "needs_background": "light"
     },
     "output_type": "display_data"
    }
   ],
   "source": [
    "def predict_move(belief, move, p_under, p_correct, p_over):\n",
    "    n = len(belief)\n",
    "    prior = np.zeros(n)\n",
    "    for i in range(n):\n",
    "        prior[i] = (\n",
    "            belief[(i-move) % n]   * p_correct +\n",
    "            belief[(i-move-1) % n] * p_over +\n",
    "            belief[(i-move+1) % n] * p_under)      \n",
    "    return prior\n",
    "\n",
    "belief = [0., 0., 0., 1., 0., 0., 0., 0., 0., 0.]\n",
    "prior = predict_move(belief, 2, .1, .8, .1)\n",
    "plt.subplot(121)\n",
    "pos = np.arange(len(belief))\n",
    "plt.bar(pos,belief,align='center',alpha=0.5)\n",
    "plt.xticks(np.arange(min(pos), max(pos)+1, 1))\n",
    "plt.gca().set_ylim([0,1])\n",
    "plt.subplot(122)\n",
    "pos = np.arange(len(prior))\n",
    "plt.bar(pos,prior,align='center',alpha=0.5)\n",
    "plt.xticks(np.arange(min(pos), max(pos)+1, 1))\n",
    "plt.gca().set_ylim([0,1])\n",
    "plt.show()"
   ]
  },
  {
   "cell_type": "code",
   "execution_count": 177,
   "metadata": {},
   "outputs": [
    {
     "data": {
      "image/png": "[encoded data removed]",
      "text/plain": [
       "<matplotlib.figure.Figure at 0x7f02e9841b00>"
      ]
     },
     "metadata": {
      "needs_background": "light"
     },
     "output_type": "display_data"
    }
   ],
   "source": [
    "def predict_move_convolve(pdf, offset, kernel):\n",
    "    N = len(pdf)\n",
    "    kN = len(kernel)\n",
    "    width = int((kN - 1) / 2)\n",
    "\n",
    "    prior = np.zeros(N)\n",
    "    for i in range(N):\n",
    "        for k in range (kN):\n",
    "            index = (i + (width-k) - offset) % N\n",
    "            prior[i] += pdf[index] * kernel[k]\n",
    "    return prior\n",
    "\n",
    "belief = [.05, .05, .05, .05, .55, .05, .05, .05, .05, .05]\n",
    "prior = predict_move_convolve(belief, offset=1, kernel=[.1, .8, .1])\n",
    "plt.subplot(121)\n",
    "pos = np.arange(len(belief))\n",
    "plt.bar(pos,belief,align='center',alpha=0.5)\n",
    "plt.xticks(np.arange(min(pos), max(pos)+1, 1))\n",
    "plt.gca().set_ylim([0,1])\n",
    "plt.subplot(122)\n",
    "pos = np.arange(len(prior))\n",
    "plt.bar(pos,prior,align='center',alpha=0.5)\n",
    "plt.xticks(np.arange(min(pos), max(pos)+1, 1))\n",
    "plt.gca().set_ylim([0,1])\n",
    "plt.show()"
   ]
  },
  {
   "cell_type": "markdown",
   "metadata": {},
   "source": [
    "Here, we shift the pdf by an offset to simulate a move and then convolve the resultant pdf with a kernel."
   ]
  },
  {
   "cell_type": "markdown",
   "metadata": {},
   "source": [
    "### Integrating measurements and movement updates\n",
    "With the update nad prediction steps described above, we can construct a tracker by feeding the results of one into the other. Let us assume that the robot is at poisition 0 and moving to along the corridor. We start by updating the prior with the likelihood information to get the posterior probability distribution."
   ]
  },
  {
   "cell_type": "code",
   "execution_count": 178,
   "metadata": {},
   "outputs": [
    {
     "data": {
      "image/png": "[encoded data removed]",
      "text/plain": [
       "<matplotlib.figure.Figure at 0x7f02e9a01048>"
      ]
     },
     "metadata": {
      "needs_background": "light"
     },
     "output_type": "display_data"
    }
   ],
   "source": [
    "def compute_lh(corridor, z, z_prob):\n",
    "    try:\n",
    "        scale = z_prob / (1. - z_prob)\n",
    "    except ZeroDivisionError:\n",
    "        scale = 1e8\n",
    "\n",
    "    likelihood = np.ones(len(corridor))\n",
    "    likelihood[corridor==z] *= scale\n",
    "    return likelihood\n",
    "\n",
    "def update(likelihood, prior):\n",
    "    scale = 1/sum(likelihood * prior)\n",
    "    return scale*likelihood * prior\n",
    "\n",
    "# setup\n",
    "corridor = np.array([1, 1, 0, 0, 0, 0, 0, 0, 1, 0])\n",
    "\n",
    "# update (prior -> posterior)\n",
    "prior = np.array([.1] * 10)\n",
    "likelihood = compute_lh(corridor, z=1, z_prob=.75)\n",
    "posterior = update(likelihood, prior)\n",
    "# predict (posterior -> prior)\n",
    "prior = predict_move_convolve(posterior, 1, (.1, .8, .1))\n",
    "\n",
    "plt.subplot(121)\n",
    "plt.bar(np.arange(len(posterior)),posterior,align='center',alpha=0.5)\n",
    "plt.xticks(np.arange(min(pos), max(pos)+1, 1))\n",
    "plt.gca().set_ylim([0,0.5])\n",
    "plt.gca().set_title('posterior')\n",
    "plt.grid()\n",
    "plt.subplot(122)\n",
    "plt.bar(np.arange(len(prior)),prior,align='center',alpha=0.5)\n",
    "plt.xticks(np.arange(min(pos), max(pos)+1, 1))\n",
    "plt.gca().set_ylim([0,0.5])\n",
    "plt.gca().set_title('new prior based on posterior')\n",
    "plt.grid()\n",
    "plt.show()"
   ]
  },
  {
   "cell_type": "code",
   "execution_count": 179,
   "metadata": {},
   "outputs": [
    {
     "data": {
      "image/png": "[encoded data removed]",
      "text/plain": [
       "<matplotlib.figure.Figure at 0x7f02e963bbe0>"
      ]
     },
     "metadata": {
      "needs_background": "light"
     },
     "output_type": "display_data"
    }
   ],
   "source": [
    "# update (prior -> posterior)\n",
    "likelihood = compute_lh(corridor, z=1, z_prob=.75)\n",
    "posterior = update(likelihood, prior)\n",
    "# predict (posterior -> prior)\n",
    "prior = predict_move_convolve(posterior, 1, (.1, .8, .1))\n",
    "\n",
    "plt.subplot(121)\n",
    "plt.bar(np.arange(len(posterior)),posterior,align='center',alpha=0.5)\n",
    "plt.xticks(np.arange(min(pos), max(pos)+1, 1))\n",
    "plt.gca().set_ylim([0,0.5])\n",
    "plt.gca().set_title('posterior')\n",
    "plt.grid()\n",
    "plt.subplot(122)\n",
    "plt.bar(np.arange(len(prior)),prior,align='center',alpha=0.5)\n",
    "plt.xticks(np.arange(min(pos), max(pos)+1, 1))\n",
    "plt.gca().set_ylim([0,0.5])\n",
    "plt.gca().set_title('new prior based on posterior')\n",
    "plt.grid()\n",
    "plt.show()"
   ]
  },
  {
   "cell_type": "code",
   "execution_count": null,
   "metadata": {},
   "outputs": [],
   "source": []
  },
  {
   "cell_type": "code",
   "execution_count": null,
   "metadata": {},
   "outputs": [],
   "source": []
  }
 ],
 "metadata": {
  "kernelspec": {
   "display_name": "Python 3",
   "language": "python",
   "name": "python3"
  },
  "language_info": {
   "codemirror_mode": {
    "name": "ipython",
    "version": 3
   },
   "file_extension": ".py",
   "mimetype": "text/x-python",
   "name": "python",
   "nbconvert_exporter": "python",
   "pygments_lexer": "ipython3",
   "version": "3.6.9"
  }
 },
 "nbformat": 4,
 "nbformat_minor": 4
}
