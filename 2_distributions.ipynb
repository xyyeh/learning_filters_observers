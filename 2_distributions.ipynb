{
 "cells": [
  {
   "cell_type": "markdown",
   "metadata": {},
   "source": [
    "## Distributions\n",
    "While the discrete bayesian filter provides useful tools for tracking, its discreteness (using grids) and multimodality. In practice, it is desirable to have a *continuous* and *unimodal* filter. This is when gaussian distributions come to our aid.\n",
    "\n",
    "### Expected Value and Variance\n",
    "Expected value and variance are commonly used when dealing with distributions. The expected value is given by $\\mathbb E[X] = \\sum_{i=1}^n p_ix_i$ in discrete form or $\\mathbb E[X] = \\int_{a}^b\\, xf(x) \\,dx$ in continuous form."
   ]
  },
  {
   "cell_type": "code",
   "execution_count": null,
   "metadata": {},
   "outputs": [],
   "source": []
  }
 ],
 "metadata": {
  "kernelspec": {
   "display_name": "Python 3",
   "language": "python",
   "name": "python3"
  },
  "language_info": {
   "codemirror_mode": {
    "name": "ipython",
    "version": 3
   },
   "file_extension": ".py",
   "mimetype": "text/x-python",
   "name": "python",
   "nbconvert_exporter": "python",
   "pygments_lexer": "ipython3",
   "version": "3.6.9"
  }
 },
 "nbformat": 4,
 "nbformat_minor": 4
}
