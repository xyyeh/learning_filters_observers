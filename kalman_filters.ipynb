{
 "cells": [
  {
   "cell_type": "markdown",
   "metadata": {},
   "source": [
    "## Bayesian filters\n",
    "*Bayesian filters* are often used in many signal processing applications. In this notebook, we will develop the topic by incrementally building intuition around how Bayesian statistics work.\n",
    "\n",
    "### Tracking an object\n",
    "Lets begin with a simple example. We are interested in writing a simple software that tracks where our Roomba is in the house (lets just ignore for a moment that such a feature is already provided by the Roomba itself :)). To begin, we attach a tracker that is able to notify us where the robot is along a long corridor. As the data streams in, we will read *door, empty, empty, door, empty, empty, ...*, where *empty* denotes a free space. Now, how can I use the information to determine where the robot is given this series of data?\n",
    "\n",
    "For simplicity, we will model the corridor as an array of 10 discrete positions, indexed from 0 through 9. Initially, when we begin reading the sensor, we have no idea where the robot is. It is thus reasonable to assume the robot is equally like to be on any position, i.e., the probability in any position is 0.1. We can model our belief as:"
   ]
  },
  {
   "cell_type": "code",
   "execution_count": 5,
   "metadata": {},
   "outputs": [
    {
     "name": "stdout",
     "output_type": "stream",
     "text": [
      "[0.1 0.1 0.1 0.1 0.1 0.1 0.1 0.1 0.1 0.1]\n"
     ]
    }
   ],
   "source": [
    "import numpy as np\n",
    "belief = 0.1*np.ones(10)\n",
    "print(belief)"
   ]
  },
  {
   "cell_type": "markdown",
   "metadata": {},
   "source": [
    "This is called a [*prior*](https://en.wikipedia.org/wiki/Prior_probability). It is the probability *prior* to incorporating any measurements. For Bayesian statistics [*prior*](https://en.wikipedia.org/wiki/Bayesian_probability), past events are considered when evaluation the occurence of a certain event. Take for example, weather forcasting where the occurence of rain in different seasons in the pasts are considered when predicting if it will rain tomorrow.\n",
    "\n",
    "Now, lets model the map with numbers. Let *door* be 1 and *empty* be 0, i.e."
   ]
  },
  {
   "cell_type": "code",
   "execution_count": 7,
   "metadata": {},
   "outputs": [],
   "source": [
    "corridor = np.array([0,1,1,0,0,0,0,1,0,0])"
   ]
  },
  {
   "cell_type": "markdown",
   "metadata": {},
   "source": [
    "Assuming the first data is *door*, we have reason to believe that the robot is at one of the doors, i.e."
   ]
  },
  {
   "cell_type": "code",
   "execution_count": 21,
   "metadata": {},
   "outputs": [
    {
     "data": {
      "image/png": "[encoded data removed]",
      "text/plain": [
       "<matplotlib.figure.Figure at 0x7f1769245278>"
      ]
     },
     "metadata": {
      "needs_background": "light"
     },
     "output_type": "display_data"
    }
   ],
   "source": [
    "import matplotlib.pyplot as plt\n",
    "belief = 1/3*np.array([0,1,1,0,0,0,0,1,0,0])\n",
    "pos = np.arange(len(belief))\n",
    "plt.bar(pos,belief,align='center',alpha=0.5)\n",
    "plt.xticks(np.arange(min(pos), max(pos)+1, 1))\n",
    "plt.gca().set_ylim([0,1])\n",
    "plt.show()"
   ]
  },
  {
   "cell_type": "markdown",
   "metadata": {},
   "source": []
  }
 ],
 "metadata": {
  "kernelspec": {
   "display_name": "Python 3",
   "language": "python",
   "name": "python3"
  },
  "language_info": {
   "codemirror_mode": {
    "name": "ipython",
    "version": 3
   },
   "file_extension": ".py",
   "mimetype": "text/x-python",
   "name": "python",
   "nbconvert_exporter": "python",
   "pygments_lexer": "ipython3",
   "version": "3.6.9"
  }
 },
 "nbformat": 4,
 "nbformat_minor": 4
}
