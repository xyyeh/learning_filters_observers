{
 "cells": [
  {
   "cell_type": "markdown",
   "metadata": {},
   "source": [
    "### Sliding mode observers for mechanical systems\n",
    "The design of sliding mode observers for mechanical systems (especially those with highly nonlinear disturbance) is important for the following reasons:\n",
    "* Linear observers fail to achieve adequate performance\n",
    "* Model based observers require exactly known models\n",
    "* High gain observers which are sensitive to measurement noise and initial 'peaking' response toward estimates\n",
    "\n",
    "Sliding mode observers are widely used due to its finite-time convergence, robustness to uncertainties and possibility of uncertainty estimation (e.g. online identification)"
   ]
  },
  {
   "cell_type": "markdown",
   "metadata": {},
   "source": [
    "#### Example with a mechanical system\n",
    "Given the manipulator dynamics (with friction), we have $M(q) \\ddot q + C(q,\\dot q)\\dot q + G(q) + F(\\dot q) + \\Delta(t,q,\\dot q) = \\tau$ where $F(\\dot q)$ is the friction forces and $\\Delta$ is hte uncertianty. Now, let us regroup the terms such that, for $x_1 = q$, $x_2 = \\dot x_1$ and $u = \\tau$:\n",
    "<center>$x_2 = \\dot x_1$</center>\n",
    "<center>$\\ddot x_2 = M^{-1} (-C \\dot q - G + \\tau) + M^{-1} (- F - \\Delta)$ </center>"
   ]
  },
  {
   "cell_type": "code",
   "execution_count": null,
   "metadata": {},
   "outputs": [],
   "source": []
  }
 ],
 "metadata": {
  "kernelspec": {
   "display_name": "Python 3",
   "language": "python",
   "name": "python3"
  },
  "language_info": {
   "codemirror_mode": {
    "name": "ipython",
    "version": 3
   },
   "file_extension": ".py",
   "mimetype": "text/x-python",
   "name": "python",
   "nbconvert_exporter": "python",
   "pygments_lexer": "ipython3",
   "version": "3.6.9"
  }
 },
 "nbformat": 4,
 "nbformat_minor": 4
}
